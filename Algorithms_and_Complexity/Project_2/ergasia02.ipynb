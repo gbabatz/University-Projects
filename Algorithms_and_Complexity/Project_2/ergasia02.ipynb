{
 "cells": [
  {
   "cell_type": "markdown",
   "metadata": {
    "deletable": false,
    "editable": false,
    "nbgrader": {
     "cell_type": "markdown",
     "checksum": "05349b7da4cb77e6f7fb0b45a3b2a7e5",
     "grade": false,
     "grade_id": "cell-697c15f1f8587085",
     "locked": true,
     "schema_version": 3,
     "solution": false,
     "task": false
    }
   },
   "source": [
    "# Εργασία 2"
   ]
  },
  {
   "cell_type": "markdown",
   "metadata": {
    "deletable": false,
    "editable": false,
    "nbgrader": {
     "cell_type": "markdown",
     "checksum": "062ecbcbf443bf23d1d79ad3ee427b48",
     "grade": false,
     "grade_id": "cell-cf7029fac9cb923d",
     "locked": true,
     "schema_version": 3,
     "solution": false,
     "task": false
    }
   },
   "source": [
    "### Ερώτημα Α: Brute force αλγόριθμος"
   ]
  },
  {
   "cell_type": "markdown",
   "metadata": {
    "deletable": false,
    "editable": false,
    "nbgrader": {
     "cell_type": "markdown",
     "checksum": "edce5a3ecac03216f0da939fce153f9a",
     "grade": false,
     "grade_id": "cell-b7e5451dd8603b06",
     "locked": true,
     "schema_version": 3,
     "solution": false,
     "task": false
    }
   },
   "source": [
    "Ερώτημα Α.1) Να αναπτύξετε έναν “brute force” αλγόριθμο για την επίλυση του προβλήματος k-center."
   ]
  },
  {
   "cell_type": "code",
   "execution_count": 1,
   "metadata": {
    "deletable": false,
    "nbgrader": {
     "cell_type": "code",
     "checksum": "a67ee1bd8f670c13e64b68f0fed18092",
     "grade": true,
     "grade_id": "cell-b55fdd2c0d76ee77",
     "locked": false,
     "points": 10,
     "schema_version": 3,
     "solution": true,
     "task": false
    }
   },
   "outputs": [],
   "source": [
    "# Να συμπληρώσετε τις εντολές import που απαιτούνται για την Εργασία 2\n",
    "# import ...\n",
    "import networkx as nx\n",
    "import itertools\n",
    "import random\n",
    "import matplotlib.pyplot as plt\n",
    "import timeit\n",
    "import numpy as np\n",
    "import copy"
   ]
  },
  {
   "cell_type": "code",
   "execution_count": 2,
   "metadata": {
    "deletable": false,
    "nbgrader": {
     "cell_type": "code",
     "checksum": "4d1faf4e3fd3abd84f12811eb2fd08ef",
     "grade": false,
     "grade_id": "cell-a9aebadea4c492a2",
     "locked": false,
     "schema_version": 3,
     "solution": true,
     "task": false
    }
   },
   "outputs": [],
   "source": [
    "# Να συμπληρώσετε τον κώδικα της συνάρτησης k_centers_objective_value(G, centers) \n",
    "# ώστε να επιστρέφει το κόστος της λύσης \"centers\" για τον γράφο G.\n",
    "\n",
    "def k_centers_objective_value(G, centers):\n",
    "        shortest_paths = nx.multi_source_dijkstra_path_length(G, centers, weight='weight')\n",
    "        # the score that we want to minimize is the maximum distance from centers\n",
    "        score = max(shortest_paths.values())\n",
    "        return score"
   ]
  },
  {
   "cell_type": "code",
   "execution_count": 3,
   "metadata": {
    "deletable": false,
    "editable": false,
    "nbgrader": {
     "cell_type": "code",
     "checksum": "ec47a5b1d9ea82af3bae28bf0589a16e",
     "grade": true,
     "grade_id": "cell-b2733b534512e941",
     "locked": true,
     "points": 10,
     "schema_version": 3,
     "solution": false,
     "task": false
    }
   },
   "outputs": [],
   "source": [
    "# Έλεγχος και αξιολόγηση της απάντησης. Μην κάνετε αλλαγές στο κελί αυτό.\n",
    "\n",
    "from nose.tools import assert_equal\n",
    "\n",
    "G = nx.read_gexf('graph_0005_01234.gexf', node_type=int)\n",
    "assert_equal(k_centers_objective_value(G, [0, 1]), 156)\n",
    "assert_equal(k_centers_objective_value(G, [0, 1, 2]), 130)\n",
    "\n",
    "G = nx.read_gexf('graph_0010_01234.gexf', node_type=int)\n",
    "assert_equal(k_centers_objective_value(G, [2, 4]), 338)\n",
    "assert_equal(k_centers_objective_value(G, [0, 1, 2]), 257)\n"
   ]
  },
  {
   "cell_type": "code",
   "execution_count": 4,
   "metadata": {
    "deletable": false,
    "nbgrader": {
     "cell_type": "code",
     "checksum": "dadd964c024a7d68f49d5ea16a7c8c93",
     "grade": false,
     "grade_id": "cell-f675ec578a721b03",
     "locked": false,
     "schema_version": 3,
     "solution": true,
     "task": false
    }
   },
   "outputs": [],
   "source": [
    "# Να συμπληρώσετε τον κώδικα της συνάρτησης k_centers_brute_force(G, k) ώστε να υπολογίζει \n",
    "# με brute force τρόπο τη βέλτιστη λύση μεγέθους k για τον γράφο G. \n",
    "# Η συνάρτηση να επιστρέφει το κόστος και τη λίστα των centers της βέλτισης λύσης.\n",
    "\n",
    "def k_centers_brute_force(G, k):\n",
    "    # find the combinations\n",
    "    comb = itertools.combinations(G.nodes, k)\n",
    "    score = float('Inf')\n",
    "    best_comb = []\n",
    "    for centers in comb:\n",
    "        temp_score = k_centers_objective_value(G,centers)\n",
    "        if temp_score < score:\n",
    "            score = temp_score\n",
    "            best_comb = list(centers)\n",
    "    return score, best_comb"
   ]
  },
  {
   "cell_type": "code",
   "execution_count": 5,
   "metadata": {
    "deletable": false,
    "editable": false,
    "nbgrader": {
     "cell_type": "code",
     "checksum": "0500c56e1fe2b0d3a13944931bc964f1",
     "grade": true,
     "grade_id": "cell-f311e8c2e44a1410",
     "locked": true,
     "points": 10,
     "schema_version": 3,
     "solution": false,
     "task": false
    }
   },
   "outputs": [],
   "source": [
    "# Έλεγχος και αξιολόγηση της απάντησης. Μην κάνετε αλλαγές στο κελί αυτό.\n",
    "\n",
    "G = nx.read_gexf('graph_0005_01234.gexf', node_type=int)\n",
    "assert_equal(k_centers_brute_force(G, 2), (152, [0,3]))\n",
    "\n",
    "G = nx.read_gexf('graph_0010_01234.gexf', node_type=int)\n",
    "assert_equal(k_centers_brute_force(G, 2), (263, [0,8]))\n"
   ]
  },
  {
   "cell_type": "markdown",
   "metadata": {
    "deletable": false,
    "editable": false,
    "nbgrader": {
     "cell_type": "markdown",
     "checksum": "66b1d6359c13fd985ff32b9c77dd0226",
     "grade": false,
     "grade_id": "cell-26f1506766961fe2",
     "locked": true,
     "schema_version": 3,
     "solution": false,
     "task": false
    }
   },
   "source": [
    "Ερώτημα Α.2) Να εφαρμόσετε τον “brute force” αλγόριθμο για την εύρεση της βέλτιστης λύσης \n",
    "των στιγμιοτύπων με k=3 στους γράφους\n",
    "graph_0005_01234.gexf, graph_0010_01234.gexf, graph_0020_01234.gexf και graph_0050_01234.gexf. \n",
    "Να μετρήσετε τον χρόνο εκτέλεσης του αλγορίθμου για κάθε περίπτωση και να απεικονίσετε τους \n",
    "χρόνους σε γραφική παράσταση. Στον άξονα των x να υπάρχει το πλήθος των κόμβων του γράφου."
   ]
  },
  {
   "cell_type": "code",
   "execution_count": 6,
   "metadata": {
    "deletable": false,
    "nbgrader": {
     "cell_type": "code",
     "checksum": "000d7e2f5cfa632383fe7059fbb71b8f",
     "grade": true,
     "grade_id": "cell-c7a2aab0f78bd2d9",
     "locked": false,
     "points": 10,
     "schema_version": 3,
     "solution": true,
     "task": false
    }
   },
   "outputs": [
    {
     "name": "stdout",
     "output_type": "stream",
     "text": [
      "k-centers computation time for 5 node graph and k=3 is: 0.00127 seconds\n",
      "k-centers computation time for 10 node graph and k=3 is: 0.01239 seconds\n",
      "k-centers computation time for 20 node graph and k=3 is: 0.40601 seconds\n",
      "k-centers computation time for 50 node graph and k=3 is: 51.65387 seconds\n"
     ]
    },
    {
     "data": {
      "image/png": "[encoded data removed]",
      "text/plain": [
       "<Figure size 504x360 with 1 Axes>"
      ]
     },
     "metadata": {
      "needs_background": "light"
     },
     "output_type": "display_data"
    }
   ],
   "source": [
    "# Α.2 Εκτέλεση αλγορίθμων και γραφική παράσταση χρόνων εκτέλεσης \n",
    "# Να συμπληρώσετε τον παρακάτω κώδικα.\n",
    "graph_paths = ['graph_0005_01234.gexf', 'graph_0010_01234.gexf',\n",
    "               'graph_0015_01234.gexf', 'graph_0020_01234.gexf',\n",
    "               'graph_0030_01234.gexf', 'graph_0050_01234.gexf',\n",
    "               'graph_0146_01234.gexf', 'graph_0500_01234.gexf']\n",
    "timings = []\n",
    "# graph 5\n",
    "path = graph_paths[0]\n",
    "G = nx.read_gexf(path, node_type=int)\n",
    "\n",
    "start = timeit.default_timer()\n",
    "centers5, score5 = k_centers_brute_force(G, k=3)\n",
    "timings.append(timeit.default_timer()-start)\n",
    "print('k-centers computation time for 5 node graph and k=3 is: {:.5f} seconds'.format(timings[0]))\n",
    "\n",
    "\n",
    "#  graph 10\n",
    "path = graph_paths[1]\n",
    "G = nx.read_gexf(path, node_type=int)\n",
    "\n",
    "start = timeit.default_timer()\n",
    "centers10, score10 = k_centers_brute_force(G, k=3)\n",
    "timings.append(timeit.default_timer()-start)\n",
    "print('k-centers computation time for 10 node graph and k=3 is: {:.5f} seconds'.format(timings[1]))\n",
    "\n",
    "\n",
    "# graph 20\n",
    "path = graph_paths[3]\n",
    "G = nx.read_gexf(path, node_type=int)\n",
    "\n",
    "start = timeit.default_timer()\n",
    "centers20, score20 = k_centers_brute_force(G, k=3)\n",
    "timings.append(timeit.default_timer()-start)\n",
    "print('k-centers computation time for 20 node graph and k=3 is: {:.5f} seconds'.format(timings[2]))\n",
    "\n",
    "\n",
    "# graph 50\n",
    "path = graph_paths[5]\n",
    "G = nx.read_gexf(path, node_type=int)\n",
    "\n",
    "start = timeit.default_timer()\n",
    "centers50, score50 = k_centers_brute_force(G, k=3)\n",
    "timings.append(timeit.default_timer()-start)\n",
    "print('k-centers computation time for 50 node graph and k=3 is: {:.5f} seconds'.format(timings[3]))\n",
    "\n",
    "plt.figure(figsize=(7, 5))\n",
    "plt.scatter([5, 10, 20, 50], timings)  # for the dots\n",
    "plt.plot([5, 10, 20, 50], timings)     # for the line\n",
    "plt.title('K-centers - computation time', fontsize='xx-large')\n",
    "plt.xticks([5, 10, 20, 50])\n",
    "plt.yticks([1, timings[-1]]) # use it or not to display all numbers\n",
    "plt.tick_params(direction='inout', length=6, width=2, colors='k', labelsize=15)\n",
    "plt.xlabel('Number of nodes', fontsize='xx-large')\n",
    "plt.ylabel('Time in seconds', fontsize='xx-large')\n",
    "plt.tight_layout()\n",
    "plt.show()\n"
   ]
  },
  {
   "cell_type": "markdown",
   "metadata": {
    "deletable": false,
    "editable": false,
    "nbgrader": {
     "cell_type": "markdown",
     "checksum": "c16f403efdf105edad0fb3be36e0a7e4",
     "grade": false,
     "grade_id": "cell-0f5bed284e4346a8",
     "locked": true,
     "schema_version": 3,
     "solution": false,
     "task": false
    }
   },
   "source": [
    "Ερώτημα Α.3) Να εφαρμόσετε τον “brute force” αλγόριθμο για την εύρεση της βέλτιστης λύσης των στιγμιοτύπων graph_0030_01234.gexf για τις τιμές\n",
    "k=2, k=3, k=4 και k=5. Να μετρήσετε τον χρόνο εκτέλεσης του αλγορίθμου για κάθε περίπτωση, να τυπώσετε τους χρόνους εκτέλεσης και τους απεικονίσετε σε γραφική παράσταση. Στον άξονα των x να υπάρχουν οι τιμές του k."
   ]
  },
  {
   "cell_type": "code",
   "execution_count": 7,
   "metadata": {
    "deletable": false,
    "nbgrader": {
     "cell_type": "code",
     "checksum": "49b7373e598b32251efef98c794402a7",
     "grade": true,
     "grade_id": "cell-28c5b4104dfa59ec",
     "locked": false,
     "points": 10,
     "schema_version": 3,
     "solution": true,
     "task": false
    }
   },
   "outputs": [
    {
     "data": {
      "image/png": "[encoded data removed]",
      "text/plain": [
       "<Figure size 504x360 with 1 Axes>"
      ]
     },
     "metadata": {
      "needs_background": "light"
     },
     "output_type": "display_data"
    }
   ],
   "source": [
    "# Α.3 Εκτέλεση αλγορίθμων και γραφική παράσταση χρόνων εκτέλεσης \n",
    "# Να συμπληρώσετε τον παρακάτω κώδικα.\n",
    "\n",
    "# graph 30\n",
    "path = graph_paths[4]\n",
    "G = nx.read_gexf(path, node_type=int)\n",
    "\n",
    "timings30 = []\n",
    "results = []\n",
    "k_list = [2, 3, 4, 5]\n",
    "\n",
    "for k in k_list:\n",
    "    start = timeit.default_timer()\n",
    "    tempres = k_centers_brute_force(G, k=k)  # tempres so that the append process doesnt affect the timing\n",
    "    timings30.append(timeit.default_timer()-start)\n",
    "    results.append(tempres)\n",
    "\n",
    "plt.figure(figsize=(7, 5))\n",
    "plt.scatter(k_list, timings30)  # for the dots\n",
    "plt.plot(k_list, timings30)     # for the line\n",
    "plt.title('computation time - K-centers on 30 node graph', fontsize='xx-large')\n",
    "plt.xticks(k_list)\n",
    "plt.yticks([timings30[0],*timings30[2:]])  #exclude if you want\n",
    "plt.tick_params(direction='inout', length=6, width=2, colors='k', labelsize=15)\n",
    "plt.xlabel('Number of K-centers', fontsize='xx-large')\n",
    "plt.ylabel('Time in seconds', fontsize='xx-large')\n",
    "plt.tight_layout()\n",
    "plt.show()\n"
   ]
  },
  {
   "cell_type": "markdown",
   "metadata": {
    "deletable": false,
    "editable": false,
    "nbgrader": {
     "cell_type": "markdown",
     "checksum": "f0357cb40c409b2b28a3ba43d041a048",
     "grade": false,
     "grade_id": "cell-f818c05189cdf374",
     "locked": true,
     "schema_version": 3,
     "solution": false,
     "task": false
    }
   },
   "source": [
    "Ερώτημα Α.4) Χρησιμοποιώντας τον brute force αλγόριθμο ή παραλλαγή του, να βρείτε όσο μπορείτε καλύτερες λύσεις για τα στιγμιότυπα\n",
    "graph_0146_01234.gexf με k = 13 και \n",
    "graph_0500_01234.gexf με k = 13."
   ]
  },
  {
   "cell_type": "code",
   "execution_count": 8,
   "metadata": {
    "deletable": false,
    "nbgrader": {
     "cell_type": "code",
     "checksum": "115c437288cb7f3f15875ee43674f98b",
     "grade": true,
     "grade_id": "cell-6ffb681959ba83c4",
     "locked": false,
     "points": 10,
     "schema_version": 3,
     "solution": true,
     "task": false
    }
   },
   "outputs": [
    {
     "name": "stdout",
     "output_type": "stream",
     "text": [
      "graph 146,\n",
      "score: 846.0 seed: 495817325 stop time: 2000 centers: [30, 70, 67, 18, 32, 12, 5, 6, 74, 47, 124, 16, 10]\n",
      "graph 500,\n",
      "score: 2434.0 seed: 208517595 stop time: 500 centers: [440, 279, 101, 140, 427, 61, 79, 453, 468, 340, 171, 68, 454]\n"
     ]
    }
   ],
   "source": [
    "# Α.4\n",
    "# Να συμπληρώσετε τον παρακάτω κώδικα.\n",
    "def k_centers_brute_force_based(G, seed, k=13, stop=2000):\n",
    "    \"\"\" setting a limit of loops and shuffling the nodes\n",
    "    so new pairs created each time according to the seed\"\"\"\n",
    "    # find the combination\n",
    "    nodes = list(G.nodes)\n",
    "    random.seed(seed)\n",
    "    random.shuffle(nodes)\n",
    "\n",
    "    comb = itertools.combinations(nodes, k)\n",
    "    score = float('Inf')\n",
    "    best_comb = []\n",
    "    count = 0\n",
    "    for centers in comb:\n",
    "        count += 1\n",
    "        temp_score = k_centers_objective_value(G,centers)\n",
    "        if temp_score < score:\n",
    "            score = temp_score\n",
    "            best_comb = list(centers)\n",
    "        if count > stop:\n",
    "            break\n",
    "    return score, best_comb\n",
    "\n",
    "\n",
    "graph_paths = ['graph_0146_01234.gexf', 'graph_0500_01234.gexf']\n",
    "print('graph 146,')\n",
    "G146 = nx.read_gexf(graph_paths[0], node_type=int)\n",
    "stoptime = 2000 #loops\n",
    "sd146 = 495817325\n",
    "result146 = k_centers_brute_force_based(G146, seed=sd146, k=13, stop=stoptime)\n",
    "print(f'score: {result146[0]} seed: {sd146} stop time: {stoptime} centers: {result146[1]}')\n",
    "\n",
    "\n",
    "print('graph 500,')\n",
    "G500 = nx.read_gexf(graph_paths[1], node_type=int)\n",
    "stoptime = 500 #loops\n",
    "sd500 = 208517595\n",
    "result500 = k_centers_brute_force_based(G500, seed=sd500, k=13, stop=stoptime)\n",
    "print(f'score: {result500[0]} seed: {sd500} stop time: {stoptime} centers: {result500[1]}')\n"
   ]
  },
  {
   "cell_type": "markdown",
   "metadata": {
    "deletable": false,
    "editable": false,
    "nbgrader": {
     "cell_type": "markdown",
     "checksum": "44875334b072a6ee44c7bd19dd27dcea",
     "grade": false,
     "grade_id": "cell-72c8e6b69bf5dd05",
     "locked": true,
     "schema_version": 3,
     "solution": false,
     "task": false
    }
   },
   "source": [
    "### Περιγραφή: Να δώσετε μια σύντομη περιγραφή της παραλλαγής του Brute-force που αναπτύξατε για το ερώτημα Α.4."
   ]
  },
  {
   "cell_type": "markdown",
   "metadata": {
    "deletable": false,
    "nbgrader": {
     "cell_type": "markdown",
     "checksum": "8fd4a8fa23dd35b984d409d34e90077f",
     "grade": true,
     "grade_id": "cell-e577a3b1f8df14d7",
     "locked": false,
     "points": 10,
     "schema_version": 3,
     "solution": true,
     "task": false
    }
   },
   "source": [
    "**Σε αυτή την υλοποίηση συμπεριλαμβάνεται περιορισμός των επαναλήψεων που κάνει ο αλγόριθμος το οποίο μεταφράζεται στο πόσους συνδιασμούς κόμβων θα εξετάσει. Επίσης η λίστα των κόμβων ανακατεύεται έτσι ώστε να προκύπτουν νέοι συνδιασμοί μέσω της  συνάρτησης itertools.combinations(), αφού η σειρά που έχουν οι κόμβοι εισόδου επηρεάζει τον τρόπο με τον οποίο 'γεννιούνται' οι συνδιασμοί.**"
   ]
  },
  {
   "cell_type": "markdown",
   "metadata": {
    "deletable": false,
    "editable": false,
    "nbgrader": {
     "cell_type": "markdown",
     "checksum": "a4724c27b8ced076c2b46da41d11b5fe",
     "grade": false,
     "grade_id": "cell-b8239093a3428578",
     "locked": true,
     "schema_version": 3,
     "solution": false,
     "task": false
    }
   },
   "source": [
    "## Ερώτημα B: Greedy Algorithm"
   ]
  },
  {
   "cell_type": "markdown",
   "metadata": {
    "deletable": false,
    "editable": false,
    "nbgrader": {
     "cell_type": "markdown",
     "checksum": "c2a9dff2232c4eb75e50155b5de605f7",
     "grade": false,
     "grade_id": "cell-398ad982aef9441f",
     "locked": true,
     "schema_version": 3,
     "solution": false,
     "task": false
    }
   },
   "source": [
    "### Ερώτημα Β.1) Να υλοποιήσετε τον “greedy” αλγόριθμο από το βιβλίο Σχεδίαση Αλγορίθμων, Ενότητα 11.2"
   ]
  },
  {
   "cell_type": "code",
   "execution_count": 9,
   "metadata": {
    "deletable": false,
    "nbgrader": {
     "cell_type": "code",
     "checksum": "77a1ab6cdda4e72772883eda207553e6",
     "grade": false,
     "grade_id": "cell-7ad6284b0c671541",
     "locked": false,
     "schema_version": 3,
     "solution": true,
     "task": false
    }
   },
   "outputs": [],
   "source": [
    "def k_centers_add(G, centers):\n",
    "    shortest_paths = nx.multi_source_dijkstra_path_length(G, centers, weight='weight')\n",
    "    # returning only the key\n",
    "    furthest_node = max(shortest_paths, key=lambda kv: shortest_paths[kv])\n",
    "    return furthest_node\n",
    "\n",
    "def k_centers_greedy(G, k=3, first_center=None, seed=None):\n",
    "    if first_center is None: \n",
    "        rng = random.Random(seed)\n",
    "        centers = rng.sample(list(G.nodes), 1)\n",
    "    else:\n",
    "        centers = [first_center]\n",
    "        \n",
    "    for i in range(k-1):\n",
    "        centers.append(k_centers_add(G, centers))\n",
    "        \n",
    "    score = k_centers_objective_value(G,centers)\n",
    "    return score, centers"
   ]
  },
  {
   "cell_type": "code",
   "execution_count": 10,
   "metadata": {
    "deletable": false,
    "editable": false,
    "nbgrader": {
     "cell_type": "code",
     "checksum": "2f230fa9da6c13b3e419a57633a92d78",
     "grade": true,
     "grade_id": "cell-9c0cc8d9f7a3af12",
     "locked": true,
     "points": 10,
     "schema_version": 3,
     "solution": false,
     "task": false
    }
   },
   "outputs": [],
   "source": [
    "# Έλεγχος και αξιολόγηση της απάντησης. Μην κάνετε αλλαγές στο κελί αυτό.\n",
    "\n",
    "G = nx.read_gexf('graph_0020_01234.gexf', node_type=int)\n",
    "assert_equal(k_centers_greedy(G, 3, first_center=5), (471.0, [5, 8, 15]))\n",
    "assert_equal(k_centers_greedy(G, 3, first_center=8), (472.0, [8, 10, 15]))\n",
    "\n"
   ]
  },
  {
   "cell_type": "markdown",
   "metadata": {
    "deletable": false,
    "editable": false,
    "nbgrader": {
     "cell_type": "markdown",
     "checksum": "b3573bb6f0bb7d65af8178a8102364ae",
     "grade": false,
     "grade_id": "cell-3f213a5104548744",
     "locked": true,
     "schema_version": 3,
     "solution": false,
     "task": false
    }
   },
   "source": [
    "2) Να εφαρμόσετε τον “greedy” αλγόριθμο για την εύρεση της βέλτιστης λύσης των στιγμιοτύπων με k=3 στους γράφους\n",
    "graph_0005_01234.gexf, graph_0010_01234.gexf, graph_0020_01234.gexf και graph_0050_01234.gexf. Να μετρήσετε τον χρόνο εκτέλεσης του αλγορίθμου για κάθε περίπτωση και να απεικονίσετε τους χρόνους σε γραφική παράσταση. Στον άξονα των x να υπάρχει το πλήθος των κόμβων του γράφου."
   ]
  },
  {
   "cell_type": "code",
   "execution_count": 11,
   "metadata": {
    "deletable": false,
    "nbgrader": {
     "cell_type": "code",
     "checksum": "d6ab55dfc6d33d0cd8b58d0f112575d0",
     "grade": true,
     "grade_id": "cell-77556920788ccbfe",
     "locked": false,
     "points": 10,
     "schema_version": 3,
     "solution": true,
     "task": false
    }
   },
   "outputs": [
    {
     "name": "stdout",
     "output_type": "stream",
     "text": [
      "k-centers computation time for 5 node graph and k=3 is: 0.00082\n",
      "k-centers computation time for 10 node graph and k=3 is: 0.00055\n",
      "k-centers computation time for 20 node graph and k=3 is: 0.00127\n",
      "k-centers computation time for 50 node graph and k=3 is: 0.01129\n"
     ]
    },
    {
     "data": {
      "image/png": "[encoded data removed]",
      "text/plain": [
       "<Figure size 504x360 with 1 Axes>"
      ]
     },
     "metadata": {
      "needs_background": "light"
     },
     "output_type": "display_data"
    }
   ],
   "source": [
    "# Β.2 Εκτέλεση αλγορίθμων και γραφική παράσταση χρόνων εκτέλεσης \n",
    "\n",
    "graph_paths = ['graph_0005_01234.gexf', 'graph_0010_01234.gexf',\n",
    "               'graph_0015_01234.gexf', 'graph_0020_01234.gexf',\n",
    "               'graph_0030_01234.gexf', 'graph_0050_01234.gexf',\n",
    "               'graph_0146_01234.gexf', 'graph_0500_01234.gexf']\n",
    "\n",
    "timings = []\n",
    "\n",
    "path = graph_paths[0]\n",
    "G = nx.read_gexf(path, node_type=int)\n",
    "\n",
    "start = timeit.default_timer()\n",
    "centers5, score5 = k_centers_greedy(G, k=3)\n",
    "timings.append(timeit.default_timer()-start)\n",
    "print('k-centers computation time for 5 node graph and k=3 is: {:.5f}'.format(timings[0]))\n",
    "\n",
    "#  graph 10\n",
    "path = graph_paths[1]\n",
    "G = nx.read_gexf(path, node_type=int)\n",
    "\n",
    "start = timeit.default_timer()\n",
    "centers10, score10 = k_centers_greedy(G, k=3)\n",
    "timings.append(timeit.default_timer()-start)\n",
    "print('k-centers computation time for 10 node graph and k=3 is: {:.5f}'.format(timings[1]))\n",
    "\n",
    "\n",
    "# graph 20\n",
    "path = graph_paths[3]\n",
    "G = nx.read_gexf(path, node_type=int)\n",
    "\n",
    "start = timeit.default_timer()\n",
    "centers20, score20 = k_centers_greedy(G, k=3)\n",
    "timings.append(timeit.default_timer()-start)\n",
    "print('k-centers computation time for 20 node graph and k=3 is: {:.5f}'.format(timings[2]))\n",
    "\n",
    "\n",
    "# graph 50\n",
    "path = graph_paths[5]\n",
    "G = nx.read_gexf(path, node_type=int)\n",
    "\n",
    "start = timeit.default_timer()\n",
    "centers50, score50 = k_centers_greedy(G, k=3)\n",
    "timings.append(timeit.default_timer()-start)\n",
    "print('k-centers computation time for 50 node graph and k=3 is: {:.5f}'.format(timings[3]))\n",
    "\n",
    "\n",
    "plt.figure(figsize=(7, 5))\n",
    "plt.scatter([5, 10, 20, 50], timings)  # for the dots\n",
    "plt.plot([5, 10, 20, 50], timings)     # for the line\n",
    "plt.title('K-centers - computation time', fontsize='xx-large')\n",
    "plt.xticks([5, 10, 20, 50])\n",
    "plt.ylim(0,timings[-1]+0.001)\n",
    "plt.tick_params(direction='inout', length=6, width=2, colors='k', labelsize=15)\n",
    "plt.xlabel('Number of nodes', fontsize='xx-large')\n",
    "plt.ylabel('Time in seconds', fontsize='xx-large')\n",
    "plt.tight_layout()\n",
    "plt.show()"
   ]
  },
  {
   "cell_type": "markdown",
   "metadata": {
    "deletable": false,
    "editable": false,
    "nbgrader": {
     "cell_type": "markdown",
     "checksum": "a928f362247e80872d41bf0aeb310abe",
     "grade": false,
     "grade_id": "cell-7e62e282499d1593",
     "locked": true,
     "schema_version": 3,
     "solution": false,
     "task": false
    }
   },
   "source": [
    "3) Να εφαρμόσετε τον “greedy” αλγόριθμο για την εύρεση της βέλτιστης λύσης των στιγμιοτύπων graph_0030_01234.gexf για τις τιμές\n",
    "k=2, k=3, k=4 και k=5. Να μετρήσετε τον χρόνο εκτέλεσης του αλγορίθμου για κάθε περίπτωση, να τυπώσετε τους χρόνους εκτέλεσης και τους απεικονίσετε σε γραφική παράσταση. Στον άξονα των x να υπάρχουν οι τιμές του k."
   ]
  },
  {
   "cell_type": "code",
   "execution_count": 12,
   "metadata": {
    "deletable": false,
    "nbgrader": {
     "cell_type": "code",
     "checksum": "e1b46ac443a6e91587b9f1fcf9892008",
     "grade": true,
     "grade_id": "cell-ca90b6263771ba04",
     "locked": false,
     "points": 10,
     "schema_version": 3,
     "solution": true,
     "task": false
    }
   },
   "outputs": [
    {
     "data": {
      "image/png": "[encoded data removed]",
      "text/plain": [
       "<Figure size 504x360 with 1 Axes>"
      ]
     },
     "metadata": {
      "needs_background": "light"
     },
     "output_type": "display_data"
    }
   ],
   "source": [
    "# Β.3 Εκτέλεση αλγορίθμων και γραφική παράσταση χρόνων εκτέλεσης \n",
    "\n",
    "# graph 30\n",
    "path = graph_paths[4]\n",
    "G = nx.read_gexf(path, node_type=int)\n",
    "\n",
    "timings30 = []\n",
    "results = []\n",
    "k_list = [2, 3, 4, 5]\n",
    "\n",
    "for k in k_list:\n",
    "    start = timeit.default_timer()\n",
    "    tempres = k_centers_greedy(G, k=k)  # tempres so that the append process doesnt affect the timing\n",
    "    timings30.append(timeit.default_timer()-start)\n",
    "    results.append(tempres)\n",
    "\n",
    "# convert to milliseconds\n",
    "timings30 = [round(1000*val,2) for val in timings30]\n",
    "\n",
    "plt.figure(figsize=(7, 5))\n",
    "plt.scatter(k_list, timings30)  # for the dots\n",
    "plt.plot(k_list, timings30)     # for the line\n",
    "plt.title('computation time - K-centers on 30 node graph', fontsize='xx-large')\n",
    "plt.xticks(k_list)\n",
    "# plt.yticks(timings30)\n",
    "plt.tick_params(direction='inout', length=6, width=2, colors='k', labelsize=15)\n",
    "plt.xlabel('Number of K-centers', fontsize='xx-large')\n",
    "plt.ylabel('Time in milliseconds', fontsize='xx-large')\n",
    "plt.tight_layout()\n",
    "plt.show()"
   ]
  },
  {
   "cell_type": "markdown",
   "metadata": {
    "deletable": false,
    "editable": false,
    "nbgrader": {
     "cell_type": "markdown",
     "checksum": "3bdd4b9df66ddac3963542511c6115e9",
     "grade": false,
     "grade_id": "cell-7652b49c363e94fd",
     "locked": true,
     "schema_version": 3,
     "solution": false,
     "task": false
    }
   },
   "source": [
    "4) Χρησιμοποιώντας τον “greedy” αλγόριθμο ή παραλλαγή του, να βρείτε όσο μπορείτε καλύτερες λύσεις για τα στιγμιότυπα\n",
    "graph_0146_01234.gexf με k = 13 και \n",
    "graph_0500_01234.gexf με k = 13."
   ]
  },
  {
   "cell_type": "code",
   "execution_count": 13,
   "metadata": {
    "deletable": false,
    "nbgrader": {
     "cell_type": "code",
     "checksum": "1b725a3f96fb012d1951cb5a84703e21",
     "grade": true,
     "grade_id": "cell-7adb77e02d3ce4b7",
     "locked": false,
     "points": 10,
     "schema_version": 3,
     "solution": true,
     "task": false
    }
   },
   "outputs": [
    {
     "name": "stdout",
     "output_type": "stream",
     "text": [
      "graph 146,\n",
      "initial score: 853.0\n",
      "final score: 808.0 seed: 689979766 centers: [109, 27, 125, 64, 127, 92, 58, 23, 19, 85, 52, 12, 63]\n",
      "graph 500,\n",
      "initial score: 2407.0\n",
      "final score: 2218.0 seed: 769833561 centers: [476, 29, 372, 333, 237, 116, 80, 153, 471, 361, 238, 291, 316]\n"
     ]
    }
   ],
   "source": [
    "# python code\n",
    "\n",
    "def k_centers_greedy_based(G, k=13, first_center=None, seed=None):\n",
    "    if first_center is None: \n",
    "        rng = random.Random(seed)\n",
    "        centers = rng.sample(list(G.nodes), 1)\n",
    "    else:\n",
    "        centers = [first_center]\n",
    "        \n",
    "    for i in range(k-1):\n",
    "        centers.append(k_centers_add(G, centers))\n",
    "        \n",
    "    score = k_centers_objective_value(G,centers)\n",
    "    \n",
    "    new_score, new_centers = solution_brute_force(G, centers, score)\n",
    "    return new_score, new_centers\n",
    "\n",
    "\n",
    "def solution_brute_force(G, centers, score):\n",
    "    \"\"\" for each position of the solution try all nodes, choose the solution that gives best result\"\"\"\n",
    "    print(f'initial score: {score}')\n",
    "    # brute force for each center\n",
    "    nodes = list(G.nodes)\n",
    "    nodes = [node for node in nodes if node not in centers]\n",
    "    best_score = copy.copy(score)\n",
    "    best_centers = copy.copy(centers)\n",
    "    \n",
    "    for i in range(0, len(centers)):\n",
    "        new_centers = copy.copy(centers)\n",
    "        for node in nodes:  \n",
    "            new_centers[i] = node\n",
    "            new_score = k_centers_objective_value(G, new_centers)\n",
    "            if new_score < best_score:\n",
    "                best_score = copy.copy(new_score)\n",
    "                best_centers = copy.copy(new_centers)\n",
    "    return best_score, best_centers\n",
    "\n",
    "\n",
    "graph_paths = ['graph_0146_01234.gexf', 'graph_0500_01234.gexf']\n",
    "\n",
    "print('graph 146,')\n",
    "G146 = nx.read_gexf(graph_paths[0], node_type=int)\n",
    "sd146 = 689979766\n",
    "result146 = k_centers_greedy_based(G146, seed=sd146, k=13)\n",
    "print(f'final score: {result146[0]} seed: {sd146} centers: {result146[1]}')\n",
    "\n",
    "print('graph 500,')\n",
    "G500 = nx.read_gexf(graph_paths[1], node_type=int)\n",
    "sd500 = 769833561\n",
    "result500 = k_centers_greedy_based(G500, seed=sd500, k=13)\n",
    "print(f'final score: {result500[0]} seed: {sd500} centers: {result500[1]}')\n"
   ]
  },
  {
   "cell_type": "markdown",
   "metadata": {
    "deletable": false,
    "editable": false,
    "nbgrader": {
     "cell_type": "markdown",
     "checksum": "89ffed6bf82a5e7144ab4429a6f6ff84",
     "grade": false,
     "grade_id": "cell-28681a2c7fe7ccfa",
     "locked": true,
     "schema_version": 3,
     "solution": false,
     "task": false
    }
   },
   "source": [
    "### Περιγραφή: Να δώσετε μια σύντομη περιγραφή της παραλλαγής του Brute-force που αναπτύξατε για το ερώτημα Β.4."
   ]
  },
  {
   "cell_type": "markdown",
   "metadata": {
    "deletable": false,
    "nbgrader": {
     "cell_type": "markdown",
     "checksum": "be4bbcbf025594823f76ed99e3fdbff0",
     "grade": true,
     "grade_id": "cell-8fad0de16e10c2cd",
     "locked": false,
     "points": 10,
     "schema_version": 3,
     "solution": true,
     "task": false
    }
   },
   "source": [
    "**Έχοντας την λύση του greedy αλγορίθμου εξετάζουμε το πόσο καλύτερες λύσεις μπορούμε να πάρουμε αλλάζοντας την τιμή ενός απο τα κέντρα-κόμβους. Για κάθε θέση της λύσης δοκιμάζουμε όλους τους διαθέσιμους κόμβους και καταγράφουμε το σκορ. Η λύση με το μικρότερο/καλύτερο σκορ επιστρέφεται. Ουσιαστικά χρησιμοποιούμε μία τεχνική local search εξαντλώντας όλους τους συνδιασμούς αντικατάστασης ενός κέντρου μέ ένα άλλο κόμβο του γράφου.**"
   ]
  },
  {
   "cell_type": "markdown",
   "metadata": {
    "deletable": false,
    "editable": false,
    "nbgrader": {
     "cell_type": "markdown",
     "checksum": "385b3d50b92cad0d13fe501082d8eb5c",
     "grade": false,
     "grade_id": "cell-3eb25aace60575e4",
     "locked": true,
     "schema_version": 3,
     "solution": false,
     "task": false
    }
   },
   "source": [
    "## Ερώτημα Γ: Αυτοσχέδιος αλγόριθμος και μπόνους"
   ]
  },
  {
   "cell_type": "markdown",
   "metadata": {
    "deletable": false,
    "editable": false,
    "nbgrader": {
     "cell_type": "markdown",
     "checksum": "a34feba15cebdf6ec7d7c12aaddc5063",
     "grade": false,
     "grade_id": "cell-d39dd615a11b2597",
     "locked": true,
     "schema_version": 3,
     "solution": false,
     "task": false
    }
   },
   "source": [
    "Να αναπτύξετε αυτοσχέδιο αλγόριθμο ή αλγορίθμους για το πρόβλημα του k-center χρησιμοποιώντας όποιες αλγοριθμικές τεχνικές επιθυμείτε, αρκεί να γνωρίζετε πως και γιατί δουλεύουν. Να εφαρμόσετε τον αλγόριθμο ή τους αλγορίθμους για να βρείτε όσο καλύτερες λύσεις μπορείτε για τα στιγμιότυπα\n",
    "graph_0146_01234.gexf και graph_0500_01234.gexf με k = 13. \n",
    "Προαιρετικά μπορείτε να ανακοινώνετε το κόστος των καλύτερων λύσεων (όχι ποιους κόμβους περιλαμβάνουν) στο θέμα\n",
    "https://www.deece.edu.gr/forum/viewtopic.php?f=222&t=9134.\n"
   ]
  },
  {
   "cell_type": "code",
   "execution_count": 14,
   "metadata": {
    "deletable": false,
    "nbgrader": {
     "cell_type": "code",
     "checksum": "427b6d7cd9b04a7d0cc72e33539ff97a",
     "grade": true,
     "grade_id": "cell-c8857d480277bf7a",
     "locked": false,
     "points": 10,
     "schema_version": 3,
     "solution": true,
     "task": false
    }
   },
   "outputs": [],
   "source": [
    "# python code\n",
    "\n",
    "def k_center_algorithm(G, seed, max_temp, kmax, initial_solution=None, initial_score=None):\n",
    "    random.seed(seed)\n",
    "    \n",
    "    if initial_solution is None:\n",
    "        initial_solution = random.sample(list(G.nodes), k=13)\n",
    "        current_sol = copy.deepcopy(initial_solution)\n",
    "        current_score = k_centers_objective_value(G, current_sol)\n",
    "    else:\n",
    "        current_sol = copy.deepcopy(initial_solution)\n",
    "        if initial_score is None:\n",
    "            current_score = k_centers_objective_value(G,initial_solution)\n",
    "        else:\n",
    "            current_score = copy.deepcopy(initial_score)\n",
    "\n",
    "            \n",
    "    best_sol = copy.deepcopy(current_sol)\n",
    "    best_score = copy.deepcopy(current_score)\n",
    "    \n",
    "    for k in range(0, kmax):\n",
    "        temp = temperature(k, max_temp, kmax)\n",
    "        new_sol, new_score = neighbour(G, current_sol)\n",
    "        prob = acceptance_probability(current_score, new_score, temp)\n",
    "        if prob > random.random(): # if new_score is better then take this score if its not take it with probability\n",
    "            current_sol = copy.deepcopy(new_sol)\n",
    "            current_score = copy.deepcopy(new_score)\n",
    "\n",
    "        # I keep the best scores found during this process and this is the output of the function\n",
    "        if current_score < best_score:\n",
    "            best_score = copy.deepcopy(current_score)\n",
    "            best_sol = copy.deepcopy(current_sol)\n",
    "\n",
    "    return best_sol, best_score\n",
    "    \n",
    "    \n",
    "def acceptance_probability(current_score, new_score, temperature):\n",
    "    \"\"\" calculate the probability of acceptance. characteristics:\n",
    "        -the worst the new solution the lower the probability (good solution has the lowest score)\n",
    "        -the smaller the temperature the lower the probability of choosing a worst score\n",
    "        -choose good scores always with probability of one\"\"\"\n",
    "    steepness = 10\n",
    "    if new_score < current_score:\n",
    "        probability = 1\n",
    "    elif temperature > 0:\n",
    "        probability = np.exp((current_score-new_score)*steepness/temperature)\n",
    "    else:\n",
    "        probability = 0\n",
    "    return probability\n",
    "\n",
    "\n",
    "def temperature(iteration, max_temp, kmax):\n",
    "    \"\"\" on the begining when iteration = 0 temperature will be maximum, set by max_temp\n",
    "        as iteration reaches kmax temperature will be reaching zero \"\"\"\n",
    "    if max_temp - iteration > 0:\n",
    "        temp = max_temp - iteration*max_temp/kmax  # like this it will reduce evenly to 0 through all iterations\n",
    "    else:\n",
    "        temp = 0\n",
    "    return temp\n",
    "\n",
    "\n",
    "def neighbour(G, sol):\n",
    "    \"\"\" change randomly a center with a random other center \"\"\"\n",
    "    nodes = list(G.nodes)\n",
    "    nodes = [node for node in nodes if node not in sol] #excluding the nodes that already exist in the solution\n",
    "    rand_center = random.choice(nodes)\n",
    "    rand_index = random.randint(0, len(sol)-1)\n",
    "    new_sol = copy.deepcopy(sol)\n",
    "    new_sol[rand_index] = rand_center\n",
    "    new_score = k_centers_objective_value(G, new_sol)\n",
    "    return new_sol, new_score\n"
   ]
  },
  {
   "cell_type": "code",
   "execution_count": 15,
   "metadata": {
    "deletable": false,
    "nbgrader": {
     "cell_type": "code",
     "checksum": "d57a65a7181ba930ed94458a36347dad",
     "grade": false,
     "grade_id": "cell-000940c104c057b3",
     "locked": false,
     "schema_version": 3,
     "solution": true,
     "task": false
    }
   },
   "outputs": [],
   "source": [
    "# Καλύτερη λύση για το πρόβλημα graph_0146_01234.gexf\n",
    "best_cost_0146 = 742.0\n",
    "best_centers_0146 = [108, 105, 60, 38, 73, 36, 134, 54, 102, 44, 100, 61, 59]\n",
    "seed = 631464140\n",
    "max_temp = 300\n",
    "kmax = 2000"
   ]
  },
  {
   "cell_type": "code",
   "execution_count": 16,
   "metadata": {
    "deletable": false,
    "editable": false,
    "nbgrader": {
     "cell_type": "code",
     "checksum": "c489a22a2900dfae74dce62712f16efd",
     "grade": true,
     "grade_id": "cell-0e3cbe442be8a112",
     "locked": true,
     "points": 10,
     "schema_version": 3,
     "solution": false,
     "task": false
    }
   },
   "outputs": [],
   "source": [
    "# Έλεγχος και αξιολόγηση της απάντησης. Μην κάνετε αλλαγές στο κελί αυτό."
   ]
  },
  {
   "cell_type": "code",
   "execution_count": 17,
   "metadata": {
    "deletable": false,
    "nbgrader": {
     "cell_type": "code",
     "checksum": "d51c339e5e9d96c561a3967124a2718d",
     "grade": false,
     "grade_id": "cell-8af76624b7883e62",
     "locked": false,
     "schema_version": 3,
     "solution": true,
     "task": false
    }
   },
   "outputs": [],
   "source": [
    "# Καλύτερη λύση για το πρόβλημα graph_0500_01234.gexf\n",
    "best_cost_0500 = 1925.0\n",
    "best_centers_0500 = [8, 304, 42, 383, 254, 167, 297, 20, 435, 124, 178, 374, 398]\n",
    "seed = 83962488\n",
    "max_temp = 500\n",
    "kmax = 1100"
   ]
  },
  {
   "cell_type": "code",
   "execution_count": 18,
   "metadata": {
    "deletable": false,
    "editable": false,
    "nbgrader": {
     "cell_type": "code",
     "checksum": "389e362f2f365702fdd5abdd77b14e3e",
     "grade": true,
     "grade_id": "cell-0b73d8082e373915",
     "locked": true,
     "points": 10,
     "schema_version": 3,
     "solution": false,
     "task": false
    }
   },
   "outputs": [],
   "source": [
    "# Έλεγχος και αξιολόγηση της απάντησης. Μην κάνετε αλλαγές στο κελί αυτό."
   ]
  },
  {
   "cell_type": "markdown",
   "metadata": {
    "deletable": false,
    "editable": false,
    "nbgrader": {
     "cell_type": "markdown",
     "checksum": "d809f0e410551fb6b62a4e92d571e20b",
     "grade": false,
     "grade_id": "cell-53522e1b73763d2a",
     "locked": true,
     "schema_version": 3,
     "solution": false,
     "task": false
    }
   },
   "source": [
    "### Περιγραφή: Να δώσετε μια σύντομη περιγραφή της παραλλαγής του Brute-force που αναπτύξατε για το ερώτημα Γ."
   ]
  },
  {
   "cell_type": "markdown",
   "metadata": {
    "deletable": false,
    "nbgrader": {
     "cell_type": "markdown",
     "checksum": "d94502cd4d950b3b147c22fa9afea3b5",
     "grade": true,
     "grade_id": "cell-5684df21a8652bfa",
     "locked": false,
     "points": 10,
     "schema_version": 3,
     "solution": true,
     "task": false
    }
   },
   "source": [
    "**Ο αλγόριθμος ακολουθεί την λογική του _Simulated annealing_.Αρχικά δημιουργούμε μία λύση με τυχαίο τρόπο ή εισάγουμε μία. Στην προκείμενη περίπτωση η λύση δημιουργείται, εναλλακτικά θα μπορούσαμε να εισάγουμε, για παράδειγμα, το αποτέλεσμα του greedy αλγορίθμου. Ο αλγόριθμος τρέχει για συγκεκριμένο αριθμό επαναλήψεων _kmax_. Σε κάθε επανάληψη κάνουμε τα εξής:**\n",
    "\n",
    " - **Υπολογίζεται μία τιμή 'θερμοκρασίας' _temp_ μέσω της συνάρτησης _temperature(iteration, max_temp, kmax)_. Η τιμή που επιστρέφει η συνάρτηση είναι μέγιστη για την πρώτη επανάληψη και όρίζεται απο την μεταβλητή _max_temp_. Καθώς αυξάνονται οι επαναλήψεις η τιμή μειώνεται ομαλά, έως ότου στην τελευταία επανάληψη η τιμή που επιστρέφει βρίσκεται πολύ κοντά στο μηδεν.**\n",
    "\n",
    " - **Υπολογίζουμε μία νέα λύση μέσω της συνάρτησης neighbour(G, sol), όπου με τυχαιο τρόπο επιλέγουμε ένα απο τα κέντρα και το αντικαθηστούμε τυχαία με ένα άλλο, το οποίο δεν υπάρχει ηδη στην λύση.**\n",
    "\n",
    " - **Υπολογίσουμε μια πιθανότητα γνωστή ως _acceptance probability_ μέσω της ομώνυμης συνάρτησης. Όπως περιγράφεται και στα σχόλια, η συνάρτηση επιστρέφει 1 αν το σκορ της νεας λύσης (που υπολογίσαμε στο προηγούμενο βήμα) είναι καλύτερο, μηδέν αν η παράμετρος θερμοκρασίας ισούτε με μηδεν (στην υλοποίηση μας δεν συμβαίνει ποτέ αυτο) ή μία τιμή η οποία υπολογίζεται απο τον τύπο ο οποίος φαίνεται στην συνάρτηση. Ο τύπος επιστρέφει μια τιμη που μειώνεται όσο μεγαλύτερη είναι η διαφορά των σκορ της παλιας και της νέας λύσης (στην περίπτωση που η νέα λύση είναι χειρότερη απο την παλιά) και μειώνεται όσο πιο μίκρη έιναι η παράμετρος της θερμοκρασίας.Η παράμετρος _steepness_ όσο πιο μεγάλη είναι τόσο πιο μικρή η πιθανότητα,ουσιαστικά έχουμε μικρότερη ανέχεια σε μεγάλες διαφορές των σκόρ, επιλέχθηκε έπειτα απο δοκιμές.**\n",
    "\n",
    " - **Βάση αυτής της πιθανότητας επιλέγουμε άν θα κρατήσουμε αυτή την λύση ώς λύση ως _current solution_ έτσι ώστε να την τροποποιήσουμε στην συνέχεια ή να την αγνοήσουμε.**\n",
    "\n",
    " - **Διατηρούμε μία μεταβλητή _best_sol_ στην οποία αποθηκεύουμε την καλήτερη λύση που έχει υπολογιστεί. Αυτή είναι και η επιστροφή της συνάρτησης, μαζί με το σκορ της λύσης.**\n",
    "\n",
    "**Ο αλγόριθμος είναι χρήσιμος για την αποφυγή τοπικών ελαχίστων και χρειάζεται κατάλληλες τιμες για τις μεταβλητές _kmax_ και _max_temp_ για να δουλέψει βέλτιστα. Η επιλογή των τιμών που χρησιμοποιήθηκαν έγινε έπειτα απο δοκιμές.**\n",
    "\n",
    "\n",
    "*Επιπλέον,* <br> \n",
    "*Η λύση που θα παραχθεί απο αυτή την συνάρτηση θα μπορούσε να εισαχθεί στην συνάρτηση _solution_brute_force()_ του προηγούμενου ερωτήματος για πιθανώς καλύτερα αποτελέσματα (βρέθηκε λύση με σκορ 727 για τον γράφο 146 με αυτή την υλοποίηση) παρόλα αυτά αυτός ο τρόπος δεν παρουσιάζεται στην εργασία.*"
   ]
  },
  {
   "cell_type": "code",
   "execution_count": null,
   "metadata": {},
   "outputs": [],
   "source": []
  }
 ],
 "metadata": {
  "kernelspec": {
   "display_name": "Python 3",
   "language": "python",
   "name": "python3"
  },
  "language_info": {
   "codemirror_mode": {
    "name": "ipython",
    "version": 3
   },
   "file_extension": ".py",
   "mimetype": "text/x-python",
   "name": "python",
   "nbconvert_exporter": "python",
   "pygments_lexer": "ipython3",
   "version": "3.7.3"
  }
 },
 "nbformat": 4,
 "nbformat_minor": 4
}
