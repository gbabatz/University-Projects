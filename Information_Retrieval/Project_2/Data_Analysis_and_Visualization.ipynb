{
 "cells": [
  {
   "cell_type": "code",
   "execution_count": null,
   "metadata": {
    "_cell_guid": "b1076dfc-b9ad-4769-8c92-a6c4dae69d19",
    "_uuid": "8f2839f25d086af736a60e9eeb907d3b93b6e0e5"
   },
   "outputs": [],
   "source": [
    "import numpy as np\n",
    "import pandas as pd\n",
    "import matplotlib.pyplot as plt\n",
    "from sklearn.preprocessing import LabelEncoder\n",
    "import seaborn as sns\n",
    "%matplotlib inline\n",
    "#pandas settings\n",
    "pd.set_option('max_colwidth',250)\n",
    "pd.set_option('max_columns',250)\n",
    "pd.set_option('max_rows',500)"
   ]
  },
  {
   "cell_type": "markdown",
   "metadata": {
    "_cell_guid": "79c7e3d0-c299-4dcb-8224-4455121ee9b0",
    "_uuid": "d629ff2d2480ee46fbb7e2d37f6b5fab8052498a",
    "collapsed": true
   },
   "source": [
    "## Load Data"
   ]
  },
  {
   "cell_type": "code",
   "execution_count": null,
   "metadata": {},
   "outputs": [],
   "source": [
    "train = pd.read_csv('../input/duth-dbirlab2-1/train.csv')\n",
    "test = pd.read_csv('../input/duth-dbirlab2-1/test.csv')"
   ]
  },
  {
   "cell_type": "code",
   "execution_count": null,
   "metadata": {},
   "outputs": [],
   "source": [
    "train.head()"
   ]
  },
  {
   "cell_type": "markdown",
   "metadata": {},
   "source": [
    "# Plots"
   ]
  },
  {
   "cell_type": "markdown",
   "metadata": {},
   "source": [
    "## Probability-Distance to coast"
   ]
  },
  {
   "cell_type": "code",
   "execution_count": null,
   "metadata": {},
   "outputs": [],
   "source": [
    "sns.set(font_scale = 2)\n",
    "ax = sns.jointplot(train['distanceToCoast'],train['Overall Probability'],height=13, kind='kde')\n",
    "ax.set_axis_labels('distance to coast','probability')\n",
    "sns.set_context(\"paper\", rc={\"font.size\":14,\"axes.titlesize\":18,\"axes.labelsize\":20}) "
   ]
  },
  {
   "cell_type": "markdown",
   "metadata": {},
   "source": [
    "### We can see that the most of our observations are within 100 km from the coast"
   ]
  },
  {
   "cell_type": "markdown",
   "metadata": {},
   "source": [
    "## Coordinates-Probability"
   ]
  },
  {
   "cell_type": "code",
   "execution_count": null,
   "metadata": {},
   "outputs": [],
   "source": [
    "from mpl_toolkits.basemap import Basemap\n",
    "\n",
    "\n",
    "plt.style.use('bmh')\n",
    "plt.figure(figsize=(20,15))\n",
    "basemap = Basemap(llcrnrlon=-5,llcrnrlat=28,urcrnrlon=40,urcrnrlat=45,\n",
    "             resolution='l', projection='tmerc', lat_0 = 35, lon_0 = 15)\n",
    "\n",
    "basemap.bluemarble()\n",
    "# map.drawmapboundary(fill_color='white')\n",
    "# map.fillcontinents(color='#ddaa66',lake_color='aqua')\n",
    "basemap.drawcoastlines()\n",
    "\n",
    "x,y = basemap(train['Center Long'].values, train['Center Lat'].values)\n",
    "basemap.scatter(x,y,c=train['Overall Probability'].values,marker='o')\n",
    "\n",
    "plt.colorbar(label='Probability')\n",
    "plt.show()\n",
    "\n",
    "plt.style.use('ggplot')"
   ]
  },
  {
   "cell_type": "markdown",
   "metadata": {},
   "source": [
    "### we can see how the probability fluctuates with the coordinates in a real world map. Western Mediterranean and North Aegean have higher probabilities of finding the fish  "
   ]
  },
  {
   "cell_type": "markdown",
   "metadata": {},
   "source": [
    "# Bathymetry-Probability"
   ]
  },
  {
   "cell_type": "code",
   "execution_count": null,
   "metadata": {},
   "outputs": [],
   "source": [
    "ax = sns.jointplot(train['bathymetry'],train['Overall Probability'],height=13, kind='kde')\n",
    "ax.set_axis_labels('bathymetry','probability')\n",
    "sns.set_context(\"paper\", rc={\"font.size\":14,\"axes.titlesize\":18,\"axes.labelsize\":20}) "
   ]
  },
  {
   "cell_type": "markdown",
   "metadata": {},
   "source": [
    "### This graph shows that: Overall Probability is equally distributed as for the depth and thus, deapth/bathymetry doesnt play a role in finding the fish. Also it shows that most of our observations happen on shallow waters"
   ]
  },
  {
   "cell_type": "markdown",
   "metadata": {},
   "source": [
    "# The distribution of categorical data,substray type, over our observations"
   ]
  },
  {
   "cell_type": "code",
   "execution_count": null,
   "metadata": {},
   "outputs": [],
   "source": [
    "fig, ax = plt.subplots(nrows = 2, ncols = 1,figsize=(15, 15))\n",
    "\n",
    "sns.countplot(train['substrateType'],ax=ax[0])\n",
    "\n",
    "ax[0].set_xlabel(None)\n",
    "ax[0].tick_params(axis='y', which='major', labelsize=15)\n",
    "# ax.yaxis.tick_left() # where the y axis marks will be\n",
    "ax[0].tick_params(\n",
    "    axis='x',          # changes apply to the x-axis\n",
    "    which='both',      # both major and minor ticks are affected\n",
    "    bottom=False,      # ticks along the bottom edge are off\n",
    "    top=False,         # ticks along the top edge are off\n",
    "    labelbottom=False)\n",
    "\n",
    "\n",
    "sns.boxenplot(train['substrateType'], train['Overall Probability'], ax = ax[1])\n",
    "sns.stripplot(train['substrateType'], train['Overall Probability'], ax = ax[1], color=\".3\")\n",
    "ax[1].set_xlabel(None)\n",
    "ax[1].set_title('Probability per substrate type', fontsize = 15, loc='center')\n",
    "# ax[1].set_xlabel('substrate type', fontsize = 13)\n",
    "ax[1].set_ylabel('Probability', fontsize = 13)\n",
    "ax[1].tick_params(axis='y', which='major', labelsize=15)\n",
    "ax[1].tick_params(axis='x', which='major', labelsize=15)\n",
    "# ax[1].yaxis.tick_left() # where the y axis marks will be\n",
    "plt.xticks(rotation=45); # semicolon to supress output"
   ]
  },
  {
   "cell_type": "markdown",
   "metadata": {},
   "source": [
    "### In order to extract valid conclusions about these plots we have to keep in mind the count of samples. Sandy mud in which we have the most samples seems to be randomly distributed, we can see that the central tendency is just under 0.6, while the substrate with the second highest sample number, sand, has central tendency of about 0.8 this tells us that sand may have an effect on probability"
   ]
  },
  {
   "cell_type": "markdown",
   "metadata": {},
   "source": [
    "## Mean Temperature-Probability"
   ]
  },
  {
   "cell_type": "code",
   "execution_count": null,
   "metadata": {},
   "outputs": [],
   "source": [
    "ax = sns.jointplot(train['temperatureSurface_mean'],train['Overall Probability'],height=13, kind='kde')\n",
    "ax.set_axis_labels('mean temperature','probability')\n",
    "sns.set_context(\"paper\", rc={\"font.size\":14,\"axes.titlesize\":18,\"axes.labelsize\":20}) "
   ]
  },
  {
   "cell_type": "markdown",
   "metadata": {},
   "source": [
    "## We clearly see a spike of high probability on around 19°C  and another one of low probability on 23°C.. temperature seems to play some role "
   ]
  },
  {
   "cell_type": "markdown",
   "metadata": {},
   "source": [
    "### Creating a sub dataframe to reduce the decimals of probability for smoother plots."
   ]
  },
  {
   "cell_type": "code",
   "execution_count": null,
   "metadata": {},
   "outputs": [],
   "source": [
    "temp_df = train[['salinitySurface_mean','chlorophyll_mean','Overall Probability']]\n",
    "temp_df.loc[:,'Overall Probability'] = train.loc[:,'Overall Probability'].map(lambda key: np.round(key,decimals=1))"
   ]
  },
  {
   "cell_type": "code",
   "execution_count": null,
   "metadata": {},
   "outputs": [],
   "source": [
    "fig, ax = plt.subplots(figsize=(10,10))\n",
    "\n",
    "sns.scatterplot(temp_df['chlorophyll_mean'], temp_df['salinitySurface_mean'], hue=temp_df['Overall Probability'], palette='Reds',\n",
    "                size=temp_df['Overall Probability'], legend=\"full\")\n",
    "\n",
    "ax.set_title('Probability of appearance', fontsize = 15, loc='center') \n",
    "ax.set_xlabel('chlorophill', fontsize = 13) \n",
    "ax.set_ylabel('salinity', fontsize = 13) \n",
    "plt.tick_params(axis='y', which='major', labelsize=12) \n",
    "plt.tick_params(axis='x', which='major', labelsize=12) \n",
    "ax.yaxis.tick_left() # where the y axis marks will be\n",
    "\n",
    "# ax.position([0,0,15,15])\n",
    "# ax.set(xlim=(-1, 40), ylim=(-1, 60))\n",
    "\n",
    "ax.axis('equal')"
   ]
  },
  {
   "cell_type": "markdown",
   "metadata": {},
   "source": [
    "### This show a subtle evidence that the lowest the salinity the greater the probability..most of our chlorophil samples are around the same value so we cant make valid conclusions about this feature."
   ]
  },
  {
   "cell_type": "markdown",
   "metadata": {},
   "source": [
    "## Salinity surface-mean Probability"
   ]
  },
  {
   "cell_type": "code",
   "execution_count": null,
   "metadata": {},
   "outputs": [],
   "source": [
    "\n",
    "ax = sns.jointplot(train['salinitySurface_mean'],train['Overall Probability'],height=13, kind='kde')\n",
    "ax.set_axis_labels('salinity surface mean','probability')\n",
    "sns.set_context(\"paper\", rc={\"font.size\":14,\"axes.titlesize\":18,\"axes.labelsize\":20})"
   ]
  },
  {
   "cell_type": "markdown",
   "metadata": {},
   "source": [
    "### Salinity around 38 units seems to be correlated with higher probability of finding the fish "
   ]
  },
  {
   "cell_type": "markdown",
   "metadata": {},
   "source": [
    "## Chrolophyll"
   ]
  },
  {
   "cell_type": "code",
   "execution_count": null,
   "metadata": {},
   "outputs": [],
   "source": [
    "train['chlorophyll_mean'].hist(bins= 20)"
   ]
  },
  {
   "cell_type": "code",
   "execution_count": null,
   "metadata": {},
   "outputs": [],
   "source": [
    "print('min Chlorophyll level:', train['chlorophyll_mean'].min())\n",
    "print('max Chlorophyll level:', train['chlorophyll_mean'].max())\n",
    "count = 0\n",
    "for elem in train['chlorophyll_mean']:\n",
    "    if elem>1:\n",
    "        count+=1\n",
    "print('Sample percentage that is greater than 1:', count*100/437,'%')\n",
    "print('Mean:', train['chlorophyll_mean'].mean())\n",
    "print('Ssd:', train['chlorophyll_mean'].std())\n",
    "print('Skewness:', train['chlorophyll_mean'].skew())\n",
    "print('Kurtosis:', train['chlorophyll_mean'].kurt())"
   ]
  },
  {
   "cell_type": "markdown",
   "metadata": {},
   "source": [
    "### As we can see this variable has a large asymmetrical distribution (This is called Skewness). To reduce skewness and make this variable easier to handle, i will replace its values with the log10 of them, since they are all greater than zero."
   ]
  },
  {
   "cell_type": "code",
   "execution_count": null,
   "metadata": {},
   "outputs": [],
   "source": [
    "normalise_chlorophyl = np.log10(train['chlorophyll_mean'])\n",
    "#normalise_chlorophyl = np.reciprocal(train['chlorophyll_mean']) #1/x gives lower Skewness & Kurtosis level\n",
    "\n",
    "print('min transformed Chlorophyll level:', normalise_chlorophyl.min())\n",
    "print('max transformed Chlorophyll level:', normalise_chlorophyl.max())\n",
    "print('Skewness:', normalise_chlorophyl.skew())\n",
    "print('Kurtosis:', normalise_chlorophyl.kurt())"
   ]
  },
  {
   "cell_type": "code",
   "execution_count": null,
   "metadata": {},
   "outputs": [],
   "source": [
    "plt.hist(normalise_chlorophyl,bins=20)"
   ]
  },
  {
   "cell_type": "markdown",
   "metadata": {},
   "source": [
    "### much better distribution"
   ]
  },
  {
   "cell_type": "code",
   "execution_count": null,
   "metadata": {},
   "outputs": [],
   "source": [
    "fig, ax = plt.subplots(figsize=(10,10))\n",
    "\n",
    "sns.scatterplot(normalise_chlorophyl, train['Overall Probability'])\n",
    "\n",
    "#plt.xlim(0,1) \n",
    "ax.set_xlabel('Chlorophyl', fontsize = 13) \n",
    "ax.set_ylabel('OverProp', fontsize = 13) \n",
    "plt.tick_params(axis='y', which='major', labelsize=12) \n",
    "plt.tick_params(axis='x', which='major', labelsize=12) \n",
    "ax.yaxis.tick_left() # where the y axis marks will be"
   ]
  },
  {
   "cell_type": "markdown",
   "metadata": {},
   "source": [
    "### as chlorophyll gets from -1.5 to -1.0 there is a clear evidence that the probability gets higher"
   ]
  },
  {
   "cell_type": "markdown",
   "metadata": {},
   "source": [
    "### as we can see from the plot below as well"
   ]
  },
  {
   "cell_type": "code",
   "execution_count": null,
   "metadata": {},
   "outputs": [],
   "source": [
    "ax = sns.jointplot(normalise_chlorophyl,train['Overall Probability'],height=13, kind='kde')\n",
    "ax.set_axis_labels('chlorophyll','Overall propability')\n",
    "sns.set_context(\"paper\", rc={\"font.size\":14,\"axes.titlesize\":18,\"axes.labelsize\":20})"
   ]
  },
  {
   "cell_type": "markdown",
   "metadata": {},
   "source": [
    "### It seems that there is high possibility of finding the fish around [-1,-0.8] (0.15 from the original metrics) chlorophyl level"
   ]
  },
  {
   "cell_type": "code",
   "execution_count": null,
   "metadata": {},
   "outputs": [],
   "source": [
    "fig, ax = plt.subplots(figsize=(15,8))\n",
    "sns.scatterplot(x= train['temperatureSurface_mean'], y= normalise_chlorophyl, hue=train['Overall Probability'], palette='Reds', size=train['Overall Probability'])\n",
    "\n",
    "#plt.ylim(0, 1)\n",
    "ax.set_ylabel('chlorophyll', fontsize = 13)\n",
    "ax.set_xlabel('temperature', fontsize = 13)\n",
    "plt.tick_params(axis='x', which='major', labelsize=12)\n",
    "plt.tick_params(axis='y', which='major', labelsize=10)\n",
    "ax.yaxis.tick_left() # where the y axis marks will be\n",
    "plt.yticks(rotation=30)\n",
    "\n",
    "ax.legend(loc='upper right') #if multiple figures, they have to contain label=''"
   ]
  },
  {
   "cell_type": "markdown",
   "metadata": {},
   "source": [
    "### As the temperature gets lower the chlorophyl levels get higher and so does the overall possibility. In the range [18,20] Celcius degree seems that it is more likely to find the fish"
   ]
  },
  {
   "cell_type": "code",
   "execution_count": null,
   "metadata": {},
   "outputs": [],
   "source": [
    "ax = sns.jointplot(train['temperatureSurface_mean'],normalise_chlorophyl,height=13, kind='kde')\n",
    "ax.set_axis_labels('temp','chlorophyll')\n",
    "sns.set_context(\"paper\", rc={\"font.size\":14,\"axes.titlesize\":18,\"axes.labelsize\":20})"
   ]
  },
  {
   "cell_type": "markdown",
   "metadata": {},
   "source": [
    "### For 19 Celcius Degrees the chlorophyll level peaks at [-1.0,0,9] (0.15). As we saw earlier there is a peak of high overall probability for this temperature as well. This may mean that the ideal chlorophyl level for finding the fish is around 0,15"
   ]
  },
  {
   "cell_type": "markdown",
   "metadata": {},
   "source": [
    "## Chrolophyll_mean - bathymetry - Probability"
   ]
  },
  {
   "cell_type": "code",
   "execution_count": null,
   "metadata": {},
   "outputs": [],
   "source": [
    "fig, ax = plt.subplots(figsize=(15,8))\n",
    "\n",
    "sns.scatterplot(np.log10(train['chlorophyll_mean']), train['bathymetry'], hue=train['Overall Probability'])\n",
    "ax.set_title('Chlorophyll & Bathymetry', fontsize = 15, loc='center')\n",
    "ax.set_ylabel('Bathymetry', fontsize = 13)\n",
    "ax.set_xlabel('Chlorophyll', fontsize = 13)\n",
    "plt.tick_params(axis='x', which='major', labelsize=12)\n",
    "plt.tick_params(axis='y', which='major', labelsize=10)\n",
    "ax.yaxis.tick_left() # where the y axis marks will be\n",
    "plt.yticks(rotation=30)\n",
    "\n",
    "ax.legend(loc='upper right') #if multiple figures, they have to contain label=''"
   ]
  },
  {
   "cell_type": "markdown",
   "metadata": {},
   "source": [
    "### Chlorophyll levels get lower as Bathymetry rises"
   ]
  },
  {
   "cell_type": "markdown",
   "metadata": {},
   "source": [
    "## Normalized chlorophyll - secchiDiskDepth_mean - Probability"
   ]
  },
  {
   "cell_type": "code",
   "execution_count": null,
   "metadata": {},
   "outputs": [],
   "source": [
    "fig, ax = plt.subplots(figsize=(15,8))\n",
    "\n",
    "sns.scatterplot(normalise_chlorophyl, train['secchiDiskDepth_mean'], hue=train['Overall Probability'])\n",
    "ax.set_title('Chlorophyl effects on Secchi', fontsize = 15, loc='center')\n",
    "ax.set_ylabel('Secchi', fontsize = 13)\n",
    "ax.set_xlabel('Chlorophyll_mean', fontsize = 13)\n",
    "plt.tick_params(axis='x', which='major', labelsize=12)\n",
    "plt.tick_params(axis='y', which='major', labelsize=10)\n",
    "ax.yaxis.tick_left() # where the y axis marks will be\n",
    "plt.yticks(rotation=30)\n",
    "\n",
    "ax.legend(loc='upper right') #if multiple figures, they have to contain label=''"
   ]
  },
  {
   "cell_type": "markdown",
   "metadata": {},
   "source": [
    "### Naturally greater levels of Chlorophyll decrease Secchi Disk Depth (water clarity). We observe that the propabilty gets higher as the clarity gets lower"
   ]
  },
  {
   "cell_type": "markdown",
   "metadata": {},
   "source": [
    "## Temperature"
   ]
  },
  {
   "cell_type": "code",
   "execution_count": null,
   "metadata": {},
   "outputs": [],
   "source": [
    "fig, ax = plt.subplots(figsize=(15,8))\n",
    "sns.scatterplot(x= train['temperatureSurface_mean'], y=train['dissolvedOxygenSurface_mean'],  hue=train['Overall Probability'], palette='Reds', size=train['Overall Probability'])\n",
    "\n",
    "#plt.xlim(0, 0.40)\n",
    "ax.set_ylabel('Dissolved Oxygen', fontsize = 13)\n",
    "ax.set_xlabel('Temperature', fontsize = 13)\n",
    "plt.tick_params(axis='x', which='major', labelsize=12)\n",
    "plt.tick_params(axis='y', which='major', labelsize=10)\n",
    "ax.yaxis.tick_left() # where the y axis marks will be\n",
    "plt.yticks(rotation=30)\n",
    "\n",
    "ax.legend(loc='upper right') #if multiple figures, they have to contain label=''"
   ]
  },
  {
   "cell_type": "markdown",
   "metadata": {},
   "source": [
    "### For lower temperatures we have greater dissolved oxygen levels and greater propabilities of catching the fish"
   ]
  },
  {
   "cell_type": "markdown",
   "metadata": {},
   "source": [
    "## Current"
   ]
  },
  {
   "cell_type": "code",
   "execution_count": null,
   "metadata": {},
   "outputs": [],
   "source": [
    "fig, ax = plt.subplots(figsize=(15,8))\n",
    "#plt.xlim(-0.1,0.1)\n",
    "#plt.ylim(-0.1,0.1)\n",
    "sns.scatterplot(train['zonalCurrentSurface_mean'], train['meridionalCurrentSurface_mean'], hue=train['Overall Probability'], palette='Reds')\n",
    "ax.set_ylabel('Meridional Curr', fontsize = 13)\n",
    "ax.set_xlabel('Zonal Curr', fontsize = 13)\n",
    "plt.tick_params(axis='x', which='major', labelsize=12)\n",
    "plt.tick_params(axis='y', which='major', labelsize=10)\n",
    "ax.yaxis.tick_left() # where the y axis marks will be\n",
    "plt.yticks(rotation=30)\n",
    "\n",
    "ax.text(-0.01, 0.2, 'North', fontsize=15)\n",
    "ax.text(-0.01, -0.3, 'South', fontsize=15)\n",
    "ax.text(-0.25, 0.0, 'West', fontsize=15)\n",
    "ax.text(0.3, 0.0, 'East', fontsize=15)\n",
    "\n",
    "#If the arrows annoy you set these functions as comments \n",
    "ax.arrow(x = 0.0, y = -0.3, dx = 0, dy=0.5, color='blue')\n",
    "ax.arrow(x=-0.25, y=0.0, dx=0.55, dy=0, color='blue')\n",
    "\n",
    "ax.legend(loc='upper right') #if multiple figures, they have to contain label=''"
   ]
  },
  {
   "cell_type": "markdown",
   "metadata": {},
   "source": [
    "### East high intensity currents seems to raise the overall propability. "
   ]
  },
  {
   "cell_type": "markdown",
   "metadata": {},
   "source": [
    "### For the same spots, we can see the chlorophyll levels bellow."
   ]
  },
  {
   "cell_type": "code",
   "execution_count": null,
   "metadata": {},
   "outputs": [],
   "source": [
    "fig, ax = plt.subplots(figsize=(15,8))\n",
    "sns.scatterplot(train['zonalCurrentSurface_mean'], train['meridionalCurrentSurface_mean'], hue=normalise_chlorophyl, palette='Reds')\n",
    "ax.set_ylabel('Meridional Curr', fontsize = 13)\n",
    "ax.set_xlabel('Zonal Curr', fontsize = 13)\n",
    "plt.tick_params(axis='x', which='major', labelsize=12)\n",
    "plt.tick_params(axis='y', which='major', labelsize=10)\n",
    "ax.yaxis.tick_left() # where the y axis marks will be\n",
    "plt.yticks(rotation=30)\n",
    "\n",
    "ax.text(-0.01, 0.2, 'North', fontsize=15)\n",
    "ax.text(-0.01, -0.3, 'South', fontsize=15)\n",
    "ax.text(-0.25, 0.0, 'West', fontsize=15)\n",
    "ax.text(0.3, 0.0, 'East', fontsize=15)\n",
    "\n",
    "#If the arrows annoy you set these functions as comments \n",
    "#ax.arrow(x = 0.0, y = -0.3, dx = 0, dy=0.5, color='blue')\n",
    "#ax.arrow(x=-0.25, y=0.0, dx=0.55, dy=0, color='blue')\n",
    "\n",
    "ax.legend(loc='upper right') #if multiple figures, they have to contain label=''"
   ]
  },
  {
   "cell_type": "markdown",
   "metadata": {},
   "source": [
    "### chlorophyll raise at North East currents"
   ]
  },
  {
   "cell_type": "markdown",
   "metadata": {},
   "source": [
    "## Euphotic Depth"
   ]
  },
  {
   "cell_type": "code",
   "execution_count": null,
   "metadata": {},
   "outputs": [],
   "source": [
    "fig, ax = plt.subplots(figsize=(15,8))\n",
    "sns.scatterplot(x= normalise_chlorophyl, y=train['euphoticDepth_mean'] , hue=train['Overall Probability'], palette='Reds', size=train['Overall Probability'])\n",
    "\n",
    "#plt.ylim(0, 1)\n",
    "ax.set_ylabel('euphotic', fontsize = 13)\n",
    "ax.set_xlabel('chlorophyl', fontsize = 13)\n",
    "plt.tick_params(axis='x', which='major', labelsize=12)\n",
    "plt.tick_params(axis='y', which='major', labelsize=10)\n",
    "ax.yaxis.tick_left() # where the y axis marks will be\n",
    "plt.yticks(rotation=30)\n",
    "\n",
    "ax.legend(loc='upper right') #if multiple figures, they have to contain label=''"
   ]
  },
  {
   "cell_type": "markdown",
   "metadata": {},
   "source": [
    "### As the Euphotic Depth level gets higher, so does the Chlorophyl and the Overall Probability"
   ]
  },
  {
   "cell_type": "code",
   "execution_count": null,
   "metadata": {},
   "outputs": [],
   "source": [
    "fig, ax = plt.subplots(figsize=(15,8))\n",
    "sns.scatterplot(x= train['dissolvedOxygenSurface_mean'], y=train['euphoticDepth_mean'] , hue=train['Overall Probability'], palette='Reds', size=train['Overall Probability'])\n",
    "\n",
    "#plt.ylim(0, 1)\n",
    "ax.set_ylabel('euphotic', fontsize = 13)\n",
    "ax.set_xlabel('Diss Ox', fontsize = 13)\n",
    "plt.tick_params(axis='x', which='major', labelsize=12)\n",
    "plt.tick_params(axis='y', which='major', labelsize=10)\n",
    "ax.yaxis.tick_left() # where the y axis marks will be\n",
    "plt.yticks(rotation=30)\n",
    "\n",
    "ax.legend(loc='upper right') #if multiple figures, they have to contain label=''"
   ]
  },
  {
   "cell_type": "markdown",
   "metadata": {},
   "source": [
    "### Higher Euphotic Depth - Higher Chlorophyll - Higher Diss Ox"
   ]
  },
  {
   "cell_type": "code",
   "execution_count": null,
   "metadata": {},
   "outputs": [],
   "source": [
    "fig, ax = plt.subplots(figsize=(15,8))\n",
    "sns.scatterplot(x= train['temperatureSurface_mean'], y=train['euphoticDepth_mean'] , hue=train['Overall Probability'], palette='Reds', size=train['Overall Probability'])\n",
    "\n",
    "#plt.ylim(0, 1)\n",
    "ax.set_ylabel('euphotic', fontsize = 13)\n",
    "ax.set_xlabel('temp', fontsize = 13)\n",
    "plt.tick_params(axis='x', which='major', labelsize=12)\n",
    "plt.tick_params(axis='y', which='major', labelsize=10)\n",
    "ax.yaxis.tick_left() # where the y axis marks will be\n",
    "plt.yticks(rotation=30)\n",
    "\n",
    "ax.legend(loc='upper right') #if multiple figures, they have to contain label='"
   ]
  },
  {
   "cell_type": "markdown",
   "metadata": {},
   "source": [
    "### Naturally the temperature gets lower"
   ]
  }
 ],
 "metadata": {
  "kernelspec": {
   "display_name": "Python 3",
   "language": "python",
   "name": "python3"
  },
  "language_info": {
   "codemirror_mode": {
    "name": "ipython",
    "version": 3
   },
   "file_extension": ".py",
   "mimetype": "text/x-python",
   "name": "python",
   "nbconvert_exporter": "python",
   "pygments_lexer": "ipython3",
   "version": "3.8.5"
  }
 },
 "nbformat": 4,
 "nbformat_minor": 4
}
